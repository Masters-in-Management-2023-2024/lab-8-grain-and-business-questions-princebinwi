{
  "cells": [
    {
      "cell_type": "markdown",
      "metadata": {
        "id": "t2AuuHFvQoIl"
      },
      "source": [
        "# Diamond Company Analytics Challenge\n",
        "\n",
        "**Time:** 35 minutes\n",
        "\n",
        "**Scenario:** You are the new data analyst at a prestigious diamond company. The CEO has called an urgent meeting and needs answers to critical business questions about the inventory.\n",
        "\n",
        "**Your Mission:** Analyze the diamond inventory data and provide insights to guide strategic decisions."
      ]
    },
    {
      "cell_type": "code",
      "execution_count": null,
      "metadata": {
        "id": "QPZXz0jAQoIm",
        "outputId": "cd0a3838-2003-4f44-c873-338644301154",
        "colab": {
          "base_uri": "https://localhost:8080/"
        }
      },
      "outputs": [
        {
          "output_type": "stream",
          "name": "stdout",
          "text": [
            "Loading diamonds dataset...\n",
            "Dataset loaded successfully!\n"
          ]
        }
      ],
      "source": [
        "import polars as pl\n",
        "\n",
        "# Load the diamonds dataset\n",
        "print(\"Loading diamonds dataset...\")\n",
        "df = pl.read_csv('https://raw.githubusercontent.com/pycaret/pycaret/master/datasets/diamond.csv')\n",
        "print(\"Dataset loaded successfully!\")"
      ]
    },
    {
      "cell_type": "markdown",
      "metadata": {
        "id": "94nE76SyQoIm"
      },
      "source": [
        "## Section 1: Initial Inventory Assessment (5 minutes)\n",
        "\n",
        "The CEO walks in: \"Before we dive into specifics, I need to understand what we're working with. Give me the basics about our inventory database.\""
      ]
    },
    {
      "cell_type": "markdown",
      "metadata": {
        "id": "clHM6NRBQoIm"
      },
      "source": [
        "### Question 1: \"How extensive is our inventory database?\"\n",
        "\n",
        "The CEO needs to know the scale of data you're analyzing."
      ]
    },
    {
      "cell_type": "code",
      "execution_count": null,
      "metadata": {
        "id": "oX3JGRk0QoIm",
        "outputId": "07495cd4-e69f-46ab-cbf4-ae347a4d3c12",
        "colab": {
          "base_uri": "https://localhost:8080/"
        }
      },
      "outputs": [
        {
          "output_type": "stream",
          "name": "stdout",
          "text": [
            "Total diamonds: 6000\n",
            "Columns tracked: 8\n"
          ]
        }
      ],
      "source": [
        "# Your code here:\n",
        "print(f\"Total diamonds: {df.height}\")\n",
        "print(f\"Columns tracked: {df.width}\")"
      ]
    },
    {
      "cell_type": "markdown",
      "metadata": {
        "id": "DeYe-zWhQoIn"
      },
      "source": [
        "### Question 2: \"What information do we track about each diamond?\"\n",
        "\n",
        "List all the characteristics we record."
      ]
    },
    {
      "cell_type": "code",
      "execution_count": null,
      "metadata": {
        "id": "JsY7By-8QoIn",
        "outputId": "e4afb424-26c9-417b-c012-ef812d427c9a",
        "colab": {
          "base_uri": "https://localhost:8080/"
        }
      },
      "outputs": [
        {
          "output_type": "stream",
          "name": "stdout",
          "text": [
            "Columns: ['Carat Weight', 'Cut', 'Color', 'Clarity', 'Polish', 'Symmetry', 'Report', 'Price']\n"
          ]
        }
      ],
      "source": [
        "# Your code here:\n",
        "print(f\"Columns: {df.columns}\")"
      ]
    },
    {
      "cell_type": "markdown",
      "metadata": {
        "id": "3vk297aAQoIn"
      },
      "source": [
        "### Question 3: \"When I look at one line in this database, what am I looking at?\"\n",
        "\n",
        "Explain in business terms: Each row represents a single diamond within the database that we own. The specifications include carat weight, cut, clarity, finishing, certification, and pricepoint."
      ]
    },
    {
      "cell_type": "markdown",
      "metadata": {
        "id": "F8NJcpm9QoIn"
      },
      "source": [
        "\n",
        "\n",
        "```\n",
        "# This is formatted as code\n",
        "\n",
        "```\n",
        "\n",
        "**Your answer:** Each row represents:"
      ]
    },
    {
      "cell_type": "code",
      "source": [
        "print(df.head(1))\n",
        "# Answer: Each row represents one individual diamond\n"
      ],
      "metadata": {
        "colab": {
          "base_uri": "https://localhost:8080/"
        },
        "id": "Z8DHOKLRXJtx",
        "outputId": "95efd4b8-2f73-4023-f77a-96e4c1326624"
      },
      "execution_count": null,
      "outputs": [
        {
          "output_type": "stream",
          "name": "stdout",
          "text": [
            "shape: (1, 8)\n",
            "┌──────────────┬───────┬───────┬─────────┬────────┬──────────┬────────┬───────┐\n",
            "│ Carat Weight ┆ Cut   ┆ Color ┆ Clarity ┆ Polish ┆ Symmetry ┆ Report ┆ Price │\n",
            "│ ---          ┆ ---   ┆ ---   ┆ ---     ┆ ---    ┆ ---      ┆ ---    ┆ ---   │\n",
            "│ f64          ┆ str   ┆ str   ┆ str     ┆ str    ┆ str      ┆ str    ┆ i64   │\n",
            "╞══════════════╪═══════╪═══════╪═════════╪════════╪══════════╪════════╪═══════╡\n",
            "│ 1.1          ┆ Ideal ┆ H     ┆ SI1     ┆ VG     ┆ EX       ┆ GIA    ┆ 5169  │\n",
            "└──────────────┴───────┴───────┴─────────┴────────┴──────────┴────────┴───────┘\n"
          ]
        }
      ]
    },
    {
      "cell_type": "markdown",
      "metadata": {
        "id": "WYbFHBUfQoIn"
      },
      "source": [
        "## Section 2: Strategic Business Questions (20 minutes)\n",
        "\n",
        "The CEO continues: \"Now let's get to the important questions. Our board meeting is tomorrow and I need concrete numbers.\""
      ]
    },
    {
      "cell_type": "markdown",
      "metadata": {
        "id": "8vWJPcCeQoIn"
      },
      "source": [
        "### Question 4: \"We're considering expanding our storage facilities. How many total carats do we have in inventory? I need to know if our vaults can handle the weight.\"\n",
        "\n",
        "Think about what measurement would help answer this."
      ]
    },
    {
      "cell_type": "code",
      "execution_count": null,
      "metadata": {
        "id": "OKf0T8bnQoIn",
        "outputId": "5d4cec71-27b1-4288-e333-c0d99cae3176",
        "colab": {
          "base_uri": "https://localhost:8080/"
        }
      },
      "outputs": [
        {
          "output_type": "stream",
          "name": "stdout",
          "text": [
            "Total carats: 8007.120000000001\n"
          ]
        }
      ],
      "source": [
        "# Your code here:\n",
        "print(f\"Total carats: {df['Carat Weight'].sum()}\")"
      ]
    },
    {
      "cell_type": "markdown",
      "metadata": {
        "id": "dNZwH7etQoIn"
      },
      "source": [
        "### Question 5: \"Our new marketing campaign claims we have 'the widest variety of cuts in the industry.' Can you verify this?\"\n",
        "\n",
        "The CEO wants to know about variety, not quantity."
      ]
    },
    {
      "cell_type": "code",
      "execution_count": null,
      "metadata": {
        "id": "Z20RrG7hQoIn",
        "outputId": "f68b7085-3aba-4bd0-bdc5-f6f699955a2a",
        "colab": {
          "base_uri": "https://localhost:8080/"
        }
      },
      "outputs": [
        {
          "output_type": "stream",
          "name": "stdout",
          "text": [
            "Number of cuts: 5\n"
          ]
        }
      ],
      "source": [
        "# Your code here:\n",
        "print(f\"Number of cuts: {len(df['Cut'].unique())}\")"
      ]
    },
    {
      "cell_type": "markdown",
      "metadata": {
        "id": "Kt7J-H3GQoIn"
      },
      "source": [
        "### Question 6: \"I'm meeting with our insurance company. They need to know our price exposure - what's our most and least valuable diamond?\""
      ]
    },
    {
      "cell_type": "code",
      "execution_count": null,
      "metadata": {
        "id": "PYi1NU3_QoIn",
        "outputId": "ada1f2c6-0a87-46a5-a909-cfc39778fcd4",
        "colab": {
          "base_uri": "https://localhost:8080/"
        }
      },
      "outputs": [
        {
          "output_type": "stream",
          "name": "stdout",
          "text": [
            "Max price: $101561\n",
            "Min price: $2184\n"
          ]
        }
      ],
      "source": [
        "# Your code here:\n",
        "print(f\"Max price: ${df['Price'].max()}\")\n",
        "print(f\"Min price: ${df['Price'].min()}\")"
      ]
    },
    {
      "cell_type": "markdown",
      "metadata": {
        "id": "uMRXLMsWQoIn"
      },
      "source": [
        "### Question 7: \"Which color grades should we focus on in our premium line? I need typical prices across our color spectrum.\"\n",
        "\n",
        "The CEO wants to understand pricing patterns."
      ]
    },
    {
      "cell_type": "code",
      "execution_count": null,
      "metadata": {
        "id": "oQhl9i08QoIn",
        "outputId": "fe67c039-5ea4-4c0d-a815-64b25f0f7ef2",
        "colab": {
          "base_uri": "https://localhost:8080/"
        }
      },
      "outputs": [
        {
          "output_type": "stream",
          "name": "stdout",
          "text": [
            "shape: (6, 2)\n",
            "┌───────┬──────────────┐\n",
            "│ Color ┆ Price        │\n",
            "│ ---   ┆ ---          │\n",
            "│ str   ┆ f64          │\n",
            "╞═══════╪══════════════╡\n",
            "│ I     ┆ 8989.636364  │\n",
            "│ E     ┆ 11539.190231 │\n",
            "│ G     ┆ 12520.050633 │\n",
            "│ F     ┆ 12712.241856 │\n",
            "│ D     ┆ 15255.783661 │\n",
            "│ H     ┆ 10487.347544 │\n",
            "└───────┴──────────────┘\n"
          ]
        }
      ],
      "source": [
        "# Your code here:\n",
        "color_prices = df.group_by('Color').agg(pl.col('Price').mean())\n",
        "print(color_prices)"
      ]
    },
    {
      "cell_type": "markdown",
      "metadata": {
        "id": "FP92zHjXQoIo"
      },
      "source": [
        "**Reflection:** After analyzing by color, how has your view of the data changed? What does each row in your result represent now?"
      ]
    },
    {
      "cell_type": "markdown",
      "metadata": {
        "id": "-IaFjWGJQoIo"
      },
      "source": [
        "**Your answer:** New grain ="
      ]
    },
    {
      "cell_type": "markdown",
      "metadata": {
        "id": "kL8v-H1aQoIo"
      },
      "source": [
        "## Section 3: Advanced Strategic Analysis (10 minutes)\n",
        "\n",
        "The CEO leans forward: \"These next questions will shape our strategy for next year.\""
      ]
    },
    {
      "cell_type": "markdown",
      "metadata": {
        "id": "njUFDbv_QoIo"
      },
      "source": [
        "### Question 8: \"We're thinking of specializing in certain clarity grades. For our investor deck, I need a complete breakdown showing: how many diamonds we have in each clarity grade, their typical price, and the total carats we're holding for each grade.\""
      ]
    },
    {
      "cell_type": "code",
      "execution_count": null,
      "metadata": {
        "id": "Okt9mYzxQoIo",
        "outputId": "7893281a-46f7-45d8-94b4-cf75bbebffd3",
        "colab": {
          "base_uri": "https://localhost:8080/"
        }
      },
      "outputs": [
        {
          "output_type": "stream",
          "name": "stdout",
          "text": [
            "shape: (7, 4)\n",
            "┌─────────┬───────┬──────────────┬──────────────┐\n",
            "│ Clarity ┆ count ┆ avg_price    ┆ total_carats │\n",
            "│ ---     ┆ ---   ┆ ---          ┆ ---          │\n",
            "│ str     ┆ u32   ┆ f64          ┆ f64          │\n",
            "╞═════════╪═══════╪══════════════╪══════════════╡\n",
            "│ VS2     ┆ 1575  ┆ 11809.053333 ┆ 2170.81      │\n",
            "│ FL      ┆ 4     ┆ 63776.0      ┆ 7.87         │\n",
            "│ SI1     ┆ 2059  ┆ 8018.864012  ┆ 2563.69      │\n",
            "│ VVS2    ┆ 666   ┆ 14142.177177 ┆ 876.58       │\n",
            "│ IF      ┆ 219   ┆ 22105.844749 ┆ 316.0        │\n",
            "│ VS1     ┆ 1192  ┆ 13694.113255 ┆ 1682.74      │\n",
            "│ VVS1    ┆ 285   ┆ 16845.680702 ┆ 389.43       │\n",
            "└─────────┴───────┴──────────────┴──────────────┘\n"
          ]
        }
      ],
      "source": [
        "# Your code here:\n",
        "clarity_breakdown = df.group_by('Clarity').agg([\n",
        "    pl.col('Price').count().alias('count'),\n",
        "    pl.col('Price').mean().alias('avg_price'),\n",
        "    pl.col('Carat Weight').sum().alias('total_carats')\n",
        "])\n",
        "print(clarity_breakdown)"
      ]
    },
    {
      "cell_type": "markdown",
      "metadata": {
        "id": "C65cBv4_QoIo"
      },
      "source": [
        "### Question 9: \"My luxury competitor claims they have the best prices for every cut-color combination. Show me our pricing structure across these combinations - I want to see where we're competitive.\""
      ]
    },
    {
      "cell_type": "code",
      "execution_count": null,
      "metadata": {
        "id": "lqVmpoe7QoIo",
        "outputId": "d95b5132-240e-43b8-c9ba-c2760946b963",
        "colab": {
          "base_uri": "https://localhost:8080/"
        }
      },
      "outputs": [
        {
          "output_type": "stream",
          "name": "stdout",
          "text": [
            "shape: (30, 3)\n",
            "┌───────────┬───────┬──────────────┐\n",
            "│ Cut       ┆ Color ┆ Price        │\n",
            "│ ---       ┆ ---   ┆ ---          │\n",
            "│ str       ┆ str   ┆ f64          │\n",
            "╞═══════════╪═══════╪══════════════╡\n",
            "│ Good      ┆ E     ┆ 8969.545455  │\n",
            "│ Ideal     ┆ D     ┆ 18461.953571 │\n",
            "│ Fair      ┆ G     ┆ 7345.52381   │\n",
            "│ Ideal     ┆ F     ┆ 14729.426997 │\n",
            "│ Good      ┆ F     ┆ 9274.007519  │\n",
            "│ …         ┆ …     ┆ …            │\n",
            "│ Ideal     ┆ G     ┆ 13570.310145 │\n",
            "│ Ideal     ┆ E     ┆ 12647.107914 │\n",
            "│ Very Good ┆ E     ┆ 12101.910217 │\n",
            "│ Very Good ┆ F     ┆ 12413.905495 │\n",
            "│ Ideal     ┆ H     ┆ 11527.700873 │\n",
            "└───────────┴───────┴──────────────┘\n"
          ]
        }
      ],
      "source": [
        "# Your code here:\n",
        "cut_color_prices = df.group_by(['Cut', 'Color']).agg(pl.col('Price').mean())\n",
        "print(cut_color_prices)\n"
      ]
    },
    {
      "cell_type": "markdown",
      "metadata": {
        "id": "MNudP3mbQoIo"
      },
      "source": [
        "**Reflection:** How specific is your analysis now? What level of detail does each row represent?"
      ]
    },
    {
      "cell_type": "markdown",
      "metadata": {
        "id": "DzFe2M7eQoIo"
      },
      "source": [
        "**Your answer:** New grain ="
      ]
    },
    {
      "cell_type": "markdown",
      "metadata": {
        "id": "774X6p_kQoIo"
      },
      "source": [
        "### Question 10: URGENT - \"Our biggest client is interested in purchasing entire inventory segments. They asked: 'Which color-cut combinations represent your highest total inventory value?' Show me the top 5 most valuable inventory segments by total worth, and include how many diamonds are in each segment.\"\n",
        "\n",
        "This is critical for tomorrow's negotiation."
      ]
    },
    {
      "cell_type": "code",
      "execution_count": null,
      "metadata": {
        "id": "tfGDWe7SQoIo",
        "outputId": "3761177e-c685-4de8-fac4-6ad48d9ee000",
        "colab": {
          "base_uri": "https://localhost:8080/"
        }
      },
      "outputs": [
        {
          "output_type": "stream",
          "name": "stdout",
          "text": [
            "shape: (5, 4)\n",
            "┌───────┬───────────┬─────────────┬───────┐\n",
            "│ Color ┆ Cut       ┆ total_value ┆ count │\n",
            "│ ---   ┆ ---       ┆ ---         ┆ ---   │\n",
            "│ str   ┆ str       ┆ i64         ┆ u32   │\n",
            "╞═══════╪═══════════╪═════════════╪═══════╡\n",
            "│ G     ┆ Ideal     ┆ 9363514     ┆ 690   │\n",
            "│ G     ┆ Very Good ┆ 7140620     ┆ 578   │\n",
            "│ F     ┆ Very Good ┆ 5648327     ┆ 455   │\n",
            "│ F     ┆ Ideal     ┆ 5346782     ┆ 363   │\n",
            "│ H     ┆ Ideal     ┆ 5279687     ┆ 458   │\n",
            "└───────┴───────────┴─────────────┴───────┘\n"
          ]
        }
      ],
      "source": [
        "# Your code here:\n",
        "top_segments = (df.group_by(['Color', 'Cut'])\n",
        "                .agg([pl.col('Price').sum().alias('total_value'),\n",
        "                      pl.col('Price').count().alias('count')])\n",
        "                .sort('total_value', descending=True)\n",
        "                .head(5))\n",
        "print(top_segments)"
      ]
    },
    {
      "cell_type": "markdown",
      "metadata": {
        "id": "N0rGwm02QoIo"
      },
      "source": [
        "## Debrief\n",
        "\n",
        "Congratulations! You've just completed your first day as the diamond company's data analyst.\n",
        "\n",
        "Remember:\n",
        "- CEOs speak in business language, not technical terms\n",
        "- Always understand what each row represents before analyzing\n",
        "- Business questions contain clues about which operations to use"
      ]
    }
  ],
  "metadata": {
    "kernelspec": {
      "display_name": "Python 3",
      "language": "python",
      "name": "python3"
    },
    "language_info": {
      "codemirror_mode": {
        "name": "ipython",
        "version": 3
      },
      "file_extension": ".py",
      "mimetype": "text/x-python",
      "name": "python",
      "nbconvert_exporter": "python",
      "pygments_lexer": "ipython3",
      "version": "3.12.0"
    },
    "colab": {
      "provenance": []
    }
  },
  "nbformat": 4,
  "nbformat_minor": 0
}